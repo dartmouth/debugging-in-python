{
 "cells": [
  {
   "cell_type": "markdown",
   "id": "d12d131d",
   "metadata": {},
   "source": [
    "# Debugging in a Jupyter notebook with VS Code"
   ]
  },
  {
   "cell_type": "markdown",
   "id": "7526c317",
   "metadata": {},
   "source": [
    "Learning objectives:\n",
    "- Apply learned debugging techniques to a Jupyter notebook"
   ]
  },
  {
   "cell_type": "markdown",
   "id": "83081f1c",
   "metadata": {},
   "source": [
    "A cell defining a function:"
   ]
  },
  {
   "cell_type": "code",
   "execution_count": null,
   "id": "31f606b3",
   "metadata": {},
   "outputs": [],
   "source": [
    "def pretty_print(n):\n",
    "    print(f\"Here is the result: {n}\")"
   ]
  },
  {
   "cell_type": "markdown",
   "id": "1e1b802f",
   "metadata": {},
   "source": [
    "A cell calling this function and code from a Python module:"
   ]
  },
  {
   "cell_type": "code",
   "execution_count": null,
   "id": "7180451b",
   "metadata": {},
   "outputs": [],
   "source": [
    "import stats\n",
    "\n",
    "numbers = [1, 2, 3, 5, 8]\n",
    "\n",
    "pretty_print(stats.count(numbers))\n",
    "pretty_print(stats.mean(numbers))"
   ]
  }
 ],
 "metadata": {
  "kernelspec": {
   "display_name": ".venv (3.13.2)",
   "language": "python",
   "name": "python3"
  },
  "language_info": {
   "codemirror_mode": {
    "name": "ipython",
    "version": 3
   },
   "file_extension": ".py",
   "mimetype": "text/x-python",
   "name": "python",
   "nbconvert_exporter": "python",
   "pygments_lexer": "ipython3",
   "version": "3.13.2"
  }
 },
 "nbformat": 4,
 "nbformat_minor": 5
}
